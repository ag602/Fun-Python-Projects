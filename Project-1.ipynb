{
 "cells": [
  {
   "cell_type": "code",
   "execution_count": 19,
   "metadata": {},
   "outputs": [],
   "source": [
    "import os\n",
    "import glob\n",
    "import numpy as np\n",
    "import pandas as pd\n",
    "from openpyxl import Workbook\n",
    "from openpyxl import load_workbook"
   ]
  },
  {
   "cell_type": "code",
   "execution_count": 20,
   "metadata": {
    "scrolled": true
   },
   "outputs": [
    {
     "data": {
      "text/plain": [
       "'C:\\\\Users\\\\AKUL\\\\Desktop\\\\python\\\\DATABASE'"
      ]
     },
     "execution_count": 20,
     "metadata": {},
     "output_type": "execute_result"
    }
   ],
   "source": [
    "FileList = glob.glob('*.xlsx')\n",
    "files = FileList\n",
    "os.chdir('C:\\\\Users\\\\AKUL\\\\Desktop\\\\python\\\\DATABASE')\n",
    "os.getcwd()"
   ]
  },
  {
   "cell_type": "code",
   "execution_count": 21,
   "metadata": {
    "scrolled": true
   },
   "outputs": [
    {
     "data": {
      "text/plain": [
       "['alumni cell dated 08.08.2019.xlsx',\n",
       " 'Alumni data  1974.xlsx G.xlsx',\n",
       " 'Alumni List from Caution money form.xlsx',\n",
       " 'Benco Alumni.xlsx',\n",
       " 'caution money dated 03.07.2018 III Almuni  cell (3).xlsx',\n",
       " 'Caution Money Dated 13.08.2019.xlsx',\n",
       " 'Copy of AIBA registered Members.xls G.xlsx',\n",
       " 'Copy of Alumni contacts G.xlsx',\n",
       " 'Copy of Batch of 1968.xlsx',\n",
       " 'Copy of Batch of 1969 (Techno).xlsx',\n",
       " 'Copy of Batch of 1970.xlsx',\n",
       " 'Copy of Batch of 1971.xlsx',\n",
       " 'Copy of Batch of 1972.xlsx',\n",
       " 'Copy of Batch of 1973.xlsx',\n",
       " 'Copy of Batch of 1974.xlsx',\n",
       " 'Copy of Batch of 1975.xlsx',\n",
       " 'Copy of Batch of 1976.xlsx',\n",
       " 'Copy of Batch of 1977.xlsx',\n",
       " 'Copy of Batch of 1978.xlsx',\n",
       " 'Copy of Batch of 1979.xlsx',\n",
       " 'Copy of Batch of 1980.xlsx',\n",
       " 'Copy of Batch of 1981.xlsx',\n",
       " 'Copy of Batch of 1982.xlsx',\n",
       " 'Copy of Batch of 1983.xlsx',\n",
       " 'Copy of Batch of 1984.xlsx',\n",
       " 'Copy of Batch of 1985.xlsx',\n",
       " 'Copy of Batch of 1986.xlsx',\n",
       " 'Copy of Batch of 1987.xlsx',\n",
       " 'Copy of Batch of 1988.xlsx',\n",
       " 'Copy of Batch of 1989.xlsx',\n",
       " 'Copy of Batch of 1990.xlsx',\n",
       " 'Copy of Batch of 1991.xlsx',\n",
       " 'Copy of Batch of 1992.xlsx',\n",
       " 'Copy of Batch of 1993.xlsx',\n",
       " 'Copy of Batch of 1994.xlsx',\n",
       " 'Copy of Batch of 1995.xlsx',\n",
       " 'Copy of Batch of 1996.xlsx',\n",
       " 'Copy of G ALUMNI TRAINING PLACEMENT PROGRAM (Responses)_.xlsx',\n",
       " 'Copy of IT Batch-1971_Alumni Data.xlsx',\n",
       " 'Copy of Lucknow association.xlsx',\n",
       " 'Copy of RegisteredAlumniDetails_AlumniMeet_2015-16.csv.xlsx',\n",
       " 'DatabaseofBatchs70,71,94,95.xlsx',\n",
       " 'Delhi alumni comtact Details (2).xlsx',\n",
       " 'GAM DATA-FORMAT.xlsx',\n",
       " 'Mentorship 2018 Data.xlsx',\n",
       " 'Newly Graduate Alumni List (3).xlsx',\n",
       " 'Out side  Contact Details (4).xlsx',\n",
       " 'Participants of Batch Alumni Reunion .xlsx',\n",
       " 'result.xlsx']"
      ]
     },
     "execution_count": 21,
     "metadata": {},
     "output_type": "execute_result"
    }
   ],
   "source": [
    "files\n",
    "# print(files)"
   ]
  },
  {
   "cell_type": "code",
   "execution_count": 22,
   "metadata": {},
   "outputs": [],
   "source": [
    "wb = Workbook()\n",
    "ws1 = wb.create_sheet(\"Mysheet\")\n",
    "wb.save('result.xlsx')\n",
    "max_row= 100\n",
    "ws1.insert_rows(14, 88)"
   ]
  },
  {
   "cell_type": "code",
   "execution_count": 23,
   "metadata": {},
   "outputs": [
    {
     "name": "stdout",
     "output_type": "stream",
     "text": [
      "[1940, 1941, 1942, 1943, 1944, 1945, 1946, 1947, 1948, 1949, 1950, 1951, 1952, 1953, 1954, 1955, 1956, 1957, 1958, 1959, 1960, 1961, 1962, 1963, 1964, 1965, 1966, 1967, 1968, 1969, 1970, 1971, 1972, 1973, 1974, 1975, 1976, 1977, 1978, 1979, 1980, 1981, 1982, 1983, 1984, 1985, 1986, 1987, 1988, 1989, 1990, 1991, 1992, 1993, 1994, 1995, 1996, 1997, 1998, 1999, 2000, 2001, 2002, 2003, 2004, 2005, 2006, 2007, 2008, 2009, 2010, 2011, 2012, 2013, 2014, 2015, 2016, 2017, 2018]\n"
     ]
    }
   ],
   "source": [
    "year = list(range(1940, 2019))\n",
    "print(year)"
   ]
  },
  {
   "cell_type": "code",
   "execution_count": 27,
   "metadata": {
    "scrolled": false
   },
   "outputs": [],
   "source": [
    "FileList = glob.glob('*.xlsx')\n",
    "#print(FileList\n",
    "# a = np.array(80,30)\n",
    "b = []\n",
    "for files in FileList:\n",
    "    wb = load_workbook(files)\n",
    "    for sheets in wb.worksheets:\n",
    "        for row in sheets.values:\n",
    "            for value in row:\n",
    "                if value == 2000:\n",
    "                    a = list(row)\n",
    "                    b.append(a)\n",
    "                    c = pd.DataFrame(b)\n",
    "                    c.to_excel('2000.xlsx')"
   ]
  },
  {
   "cell_type": "code",
   "execution_count": 52,
   "metadata": {},
   "outputs": [],
   "source": []
  },
  {
   "cell_type": "code",
   "execution_count": null,
   "metadata": {},
   "outputs": [],
   "source": []
  }
 ],
 "metadata": {
  "kernelspec": {
   "display_name": "Python 3",
   "language": "python",
   "name": "python3"
  },
  "language_info": {
   "codemirror_mode": {
    "name": "ipython",
    "version": 3
   },
   "file_extension": ".py",
   "mimetype": "text/x-python",
   "name": "python",
   "nbconvert_exporter": "python",
   "pygments_lexer": "ipython3",
   "version": "3.6.7"
  }
 },
 "nbformat": 4,
 "nbformat_minor": 2
}
